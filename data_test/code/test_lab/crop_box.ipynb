{
 "cells": [
  {
   "cell_type": "markdown",
   "metadata": {},
   "source": [
    "# 写真を表す"
   ]
  },
  {
   "cell_type": "code",
   "execution_count": 4,
   "metadata": {},
   "outputs": [
    {
     "name": "stdout",
     "output_type": "stream",
     "text": [
      "Saved modified image: ./modified_01.jpg\n"
     ]
    }
   ],
   "source": [
    "import json\n",
    "import os\n",
    "from PIL import Image, ImageDraw\n",
    "\n",
    "# Expand user home directory and construct the paths\n",
    "json_file_path = r'D:\\Download\\Tu_Lieu\\Cao_Hoc\\Ky_3\\Multimedia\\FinalExam\\magi_functional\\data_test\\personal_data\\Ruri_Dragon\\json_results\\page_0_result.json'  # Update this path\n",
    "images_dir = r'D:\\Download\\Tu_Lieu\\Cao_Hoc\\Ky_3\\Multimedia\\FinalExam\\magi_functional\\data_test\\personal_data\\Ruri_Dragon\\raw\\01.jpg'  # Update this path\n",
    "\n",
    "test_save_path = \"./\"\n",
    "\n",
    "# Load the JSON data\n",
    "with open(json_file_path, 'r') as f:\n",
    "    data = json.load(f)\n",
    "\n",
    "# Extract the text coordinates\n",
    "text_coords = data[\"texts\"]\n",
    "\n",
    "# Open the image\n",
    "with Image.open(images_dir) as img:\n",
    "    draw = ImageDraw.Draw(img)\n",
    "\n",
    "    # Draw red boxes for each set of coordinates\n",
    "    for box in text_coords:\n",
    "        # box format: [x1, y1, x2, y2]\n",
    "        draw.rectangle(box, outline=\"red\", width=5)\n",
    "\n",
    "    # Save the modified image with a new name\n",
    "    modified_image_path = os.path.join(test_save_path, f'modified_{os.path.basename(images_dir)}')\n",
    "    img.save(modified_image_path)\n",
    "\n",
    "print(f\"Saved modified image: {modified_image_path}\")"
   ]
  },
  {
   "cell_type": "markdown",
   "metadata": {},
   "source": [
    "# Create box to hide bubble chat"
   ]
  },
  {
   "cell_type": "code",
   "execution_count": 7,
   "metadata": {},
   "outputs": [
    {
     "name": "stdout",
     "output_type": "stream",
     "text": [
      "Saved modified image: ./modified_01.jpg\n"
     ]
    }
   ],
   "source": [
    "import json\n",
    "import os\n",
    "import time\n",
    "from PIL import Image, ImageDraw\n",
    "\n",
    "# Expand user home directory and construct the paths\n",
    "json_file_path = r'D:\\Download\\Tu_Lieu\\Cao_Hoc\\Ky_3\\Multimedia\\FinalExam\\magi_functional\\data_test\\personal_data\\Ruri_Dragon\\json_results\\page_0_result.json'  # Update this path\n",
    "images_dir = r'D:\\Download\\Tu_Lieu\\Cao_Hoc\\Ky_3\\Multimedia\\FinalExam\\magi_functional\\data_test\\personal_data\\Ruri_Dragon\\raw\\01.jpg'  # Update this path\n",
    "test_save_path = \"./\"\n",
    "\n",
    "# Load the JSON data\n",
    "with open(json_file_path, 'r') as f:\n",
    "    data = json.load(f)\n",
    "\n",
    "# Extract the text coordinates\n",
    "text_coords = data[\"texts\"]\n",
    "\n",
    "# Open the image\n",
    "with Image.open(images_dir) as img:\n",
    "    draw = ImageDraw.Draw(img)\n",
    "\n",
    "    # Create a modified copy of the image for erasing text\n",
    "    modified_image = img.copy()\n",
    "\n",
    "    # Loop through each set of coordinates and erase text\n",
    "    for box in text_coords:\n",
    "        # Get corner coordinates\n",
    "        top_left = (box[0], box[1])\n",
    "        top_right = (box[2], box[1])\n",
    "        bottom_left = (box[0], box[3])\n",
    "        bottom_right = (box[2], box[3])\n",
    "\n",
    "        # Get the colors at the corners\n",
    "        colors = [\n",
    "            img.getpixel(top_left),\n",
    "            img.getpixel(top_right),\n",
    "            img.getpixel(bottom_left),\n",
    "            img.getpixel(bottom_right),\n",
    "        ]\n",
    "\n",
    "        # Find the color with the maximum value (highest sum of RGB values)\n",
    "        max_color = max(colors, key=lambda c: sum(c[:3]))  # Ignore alpha if present\n",
    "\n",
    "        # Fill the rectangle with the center color\n",
    "        draw.rectangle(box, fill=max_color)\n",
    "\n",
    "    # Save the final modified image\n",
    "    modified_image_path = os.path.join(test_save_path, f'modified_{os.path.basename(images_dir)}')\n",
    "    img.save(modified_image_path)\n",
    "\n",
    "print(f\"Saved modified image: {modified_image_path}\")\n"
   ]
  },
  {
   "cell_type": "code",
   "execution_count": 14,
   "metadata": {},
   "outputs": [
    {
     "name": "stdout",
     "output_type": "stream",
     "text": [
      "Saved modified images for each speech bubble.\n"
     ]
    }
   ],
   "source": [
    "import json\n",
    "import os\n",
    "from PIL import Image, ImageDraw\n",
    "\n",
    "# Expand user home directory and construct the paths\n",
    "json_file_path = r'D:\\Download\\Tu_Lieu\\Cao_Hoc\\Ky_3\\Multimedia\\FinalExam\\magi_functional\\data_test\\personal_data\\Ruri_Dragon\\json_results\\page_0_result.json'  # Update this path\n",
    "images_dir = r'D:\\Download\\Tu_Lieu\\Cao_Hoc\\Ky_3\\Multimedia\\FinalExam\\magi_functional\\data_test\\personal_data\\Ruri_Dragon\\raw\\01.jpg'  # Update this path\n",
    "test_save_path = \"./full_image\"\n",
    "os.makedirs(test_save_path, exist_ok=True)\n",
    "\n",
    "# Load the JSON data\n",
    "with open(json_file_path, 'r') as f:\n",
    "    data = json.load(f)\n",
    "\n",
    "# Extract the text coordinates\n",
    "text_coords = data[\"texts\"]\n",
    "\n",
    "# Open the image\n",
    "with Image.open(images_dir) as img:\n",
    "    # Create a copy of the image for drawing\n",
    "    original_img = img.copy()\n",
    "    img.save(os.path.join(test_save_path, f'0_modified_{os.path.basename(images_dir)}'))\n",
    "    \n",
    "    # Loop through each set of coordinates in reverse order\n",
    "    for i, box in enumerate(reversed(text_coords)):\n",
    "        # box format: [x1, y1, x2, y2]\n",
    "\n",
    "        # Get corner coordinates\n",
    "        top_left = (box[0], box[1])\n",
    "        top_right = (box[2], box[1])\n",
    "        bottom_left = (box[0], box[3])\n",
    "        bottom_right = (box[2], box[3])\n",
    "\n",
    "        # Get the colors at the corners\n",
    "        colors = [\n",
    "            original_img.getpixel(top_left),\n",
    "            original_img.getpixel(top_right),\n",
    "            original_img.getpixel(bottom_left),\n",
    "            original_img.getpixel(bottom_right),\n",
    "        ]\n",
    "\n",
    "        # Find the color with the maximum value (highest sum of RGB values)\n",
    "        max_color = max(colors, key=lambda c: sum(c[:3]))  # Ignore alpha if present\n",
    "\n",
    "        # Create a draw object on the original image copy\n",
    "        draw = ImageDraw.Draw(img)\n",
    "\n",
    "        # Fill the rectangle with the max color\n",
    "        draw.rectangle(box, fill=max_color)\n",
    "\n",
    "        # Save the modified image with a unique name\n",
    "        modified_image_path = os.path.join(test_save_path, f'{i+1}_modified_{os.path.basename(images_dir)}')\n",
    "        img.save(modified_image_path)\n",
    "\n",
    "        # Optionally, you might want to keep the original image for the next iteration\n",
    "        # img = original_img.copy()  # Reset the image for the next box\n",
    "\n",
    "print(f\"Saved modified images for each speech bubble.\")\n"
   ]
  },
  {
   "cell_type": "markdown",
   "metadata": {},
   "source": [
    "# Works with panel"
   ]
  },
  {
   "cell_type": "code",
   "execution_count": 37,
   "metadata": {},
   "outputs": [
    {
     "name": "stdout",
     "output_type": "stream",
     "text": [
      "Saved modified panel images with speech bubbles.\n"
     ]
    }
   ],
   "source": [
    "import json\n",
    "import os\n",
    "from PIL import Image, ImageDraw\n",
    "\n",
    "# Expand user home directory and construct the paths\n",
    "json_file_path = r'D:\\Download\\Tu_Lieu\\Cao_Hoc\\Ky_3\\Multimedia\\FinalExam\\magi_functional\\data_test\\personal_data\\Ruri_Dragon\\json_results\\page_0_result.json'  # Update this path\n",
    "images_dir = r'D:\\Download\\Tu_Lieu\\Cao_Hoc\\Ky_3\\Multimedia\\FinalExam\\magi_functional\\data_test\\personal_data\\Ruri_Dragon\\raw\\01.jpg'  # Update this path\n",
    "test_save_path = \"./panel_images\"\n",
    "os.makedirs(test_save_path, exist_ok=True)\n",
    "\n",
    "# Load the JSON data\n",
    "with open(json_file_path, 'r') as f:\n",
    "    data = json.load(f)\n",
    "\n",
    "# Extract the text coordinates and panel coordinates\n",
    "text_coords = data[\"texts\"]\n",
    "panel_coords = data[\"panels\"]\n",
    "\n",
    "# Open the original image\n",
    "with Image.open(images_dir) as img:\n",
    "    # Create a copy of the image for drawing\n",
    "    original_img = img.copy()\n",
    "\n",
    "    # Loop through each panel\n",
    "    for panel_index, panel in enumerate(reversed(panel_coords)):\n",
    "        # Create a panel-specific image by cropping the original image\n",
    "        panel_box = (panel[0], panel[1], panel[2], panel[3])  # box format: (x1, y1, x2, y2)\n",
    "        panel_image = original_img.crop(panel_box)\n",
    "        panel_image.save(os.path.join(test_save_path, f'panel_{panel_index+1}_bubble_0_modified_{os.path.basename(images_dir)}'))\n",
    "\n",
    "        # Create a draw object on the panel image copy\n",
    "        draw = ImageDraw.Draw(panel_image)\n",
    "\n",
    "        # Loop through each set of coordinates in reverse order\n",
    "        for box_index, box in enumerate(reversed(text_coords)):\n",
    "            # box format: [x1, y1, x2, y2]\n",
    "            # Calculate the center point of the chatbox\n",
    "            x_center = (box[0] + box[2]) // 2\n",
    "            y_center = (box[1] + box[3]) // 2\n",
    "\n",
    "            # Check if the center point is inside the panel\n",
    "            if panel[0] <= x_center <= panel[2] and panel[1] <= y_center <= panel[3]:\n",
    "                # Calculate the position of the box relative to the panel\n",
    "                relative_box = (\n",
    "                    box[0] - panel[0],\n",
    "                    box[1] - panel[1],\n",
    "                    box[2] - panel[0],\n",
    "                    box[3] - panel[1]\n",
    "                )\n",
    "\n",
    "                # Get corner coordinates\n",
    "                top_left = (relative_box[0], relative_box[1])\n",
    "                top_right = (relative_box[2], relative_box[1])\n",
    "                bottom_left = (relative_box[0], relative_box[3])\n",
    "                bottom_right = (relative_box[2], relative_box[3])\n",
    "\n",
    "                # Get the colors at the corners\n",
    "                colors = [\n",
    "                    original_img.getpixel(top_left),\n",
    "                    original_img.getpixel(top_right),\n",
    "                    original_img.getpixel(bottom_left),\n",
    "                    original_img.getpixel(bottom_right),\n",
    "                ]\n",
    "\n",
    "                # Find the color with the maximum value (highest sum of RGB values)\n",
    "                max_color = max(colors, key=lambda c: sum(c[:3]))  # Ignore alpha if present\n",
    "\n",
    "                # Fill the rectangle with the max color\n",
    "                draw.rectangle(relative_box, fill=max_color)\n",
    "\n",
    "                # Save the modified panel image with a unique name\n",
    "                modified_panel_image_path = os.path.join(test_save_path, f'panel_{panel_index + 1}_bubble_{box_index + 1}_modified_{os.path.basename(images_dir)}')\n",
    "                panel_image.save(modified_panel_image_path)\n",
    "\n",
    "print(f\"Saved modified panel images with speech bubbles.\")"
   ]
  },
  {
   "cell_type": "markdown",
   "metadata": {},
   "source": [
    "# Images to Video"
   ]
  },
  {
   "cell_type": "code",
   "execution_count": 41,
   "metadata": {},
   "outputs": [
    {
     "name": "stdout",
     "output_type": "stream",
     "text": [
      "Video saved as: ./panel_images/ruri_dragon.mp4\n"
     ]
    }
   ],
   "source": [
    "import cv2\n",
    "import os\n",
    "from glob import glob\n",
    "\n",
    "# Define the directory where the modified images are stored\n",
    "image_dir = './panel_images'  # Change this to your actual save path\n",
    "output_video_path = './panel_images/ruri_dragon.mp4'  # Change the extension to .mp4\n",
    "fps = 30  # Desired frames per second for the video\n",
    "duration_per_image = 0.5  # Duration each image is displayed in seconds\n",
    "\n",
    "# Calculate the total frames for each image based on desired display duration\n",
    "frames_per_image = int(fps * duration_per_image)\n",
    "\n",
    "# Get all the modified images sorted in reverse order\n",
    "image_files = sorted(glob(os.path.join(image_dir, 'panel_*_bubble_*_modified_*.jpg')), reverse=True)\n",
    "\n",
    "# Check if there are any image files\n",
    "if not image_files:\n",
    "    print(\"No modified images found.\")\n",
    "else:\n",
    "    # Get the dimensions of the first image to set the video size\n",
    "    first_image = cv2.imread(image_files[0])\n",
    "    height, width, _ = first_image.shape\n",
    "\n",
    "    # Create a VideoWriter object for MP4\n",
    "    fourcc = cv2.VideoWriter_fourcc(*'mp4v')  # Codec for MP4\n",
    "    video_writer = cv2.VideoWriter(output_video_path, fourcc, fps, (width, height))\n",
    "\n",
    "    # Loop through the images and write them to the video\n",
    "    for image_file in image_files:\n",
    "        img = cv2.imread(image_file)\n",
    "        for _ in range(frames_per_image):\n",
    "            video_writer.write(img)  # Write the same image multiple times for the duration\n",
    "\n",
    "    # Release the video writer\n",
    "    video_writer.release()\n",
    "\n",
    "    print(f\"Video saved as: {output_video_path}\")\n"
   ]
  },
  {
   "cell_type": "markdown",
   "metadata": {},
   "source": [
    "The above code only works with images with same height/width. To fix it there is 2 approaches:"
   ]
  },
  {
   "cell_type": "markdown",
   "metadata": {},
   "source": [
    "Option 1: Fixed Video Size by zooming smaller images to fit either height or width"
   ]
  },
  {
   "cell_type": "code",
   "execution_count": 46,
   "metadata": {},
   "outputs": [
    {
     "name": "stdout",
     "output_type": "stream",
     "text": [
      "Video saved as: ./panel_images/ruri_dragon.mp4\n"
     ]
    }
   ],
   "source": [
    "import cv2\n",
    "import os\n",
    "import numpy as np\n",
    "from glob import glob\n",
    "\n",
    "# Define the directory where the modified images are stored\n",
    "image_dir = './panel_images'  # Change this to your actual save path\n",
    "output_video_path = './panel_images/ruri_dragon.mp4'  # Change the extension to .mp4\n",
    "fps = 30  # Desired frames per second for the video\n",
    "duration_per_image = 0.5  # Duration each image is displayed in seconds\n",
    "\n",
    "# Calculate the total frames for each image based on desired display duration\n",
    "frames_per_image = int(fps * duration_per_image)\n",
    "\n",
    "# Get all the modified images sorted in reverse order\n",
    "image_files = sorted(glob(os.path.join(image_dir, 'panel_*_bubble_*_modified_*.jpg')), reverse=True)\n",
    "\n",
    "# Check if there are any image files\n",
    "if not image_files:\n",
    "    print(\"No modified images found.\")\n",
    "else:\n",
    "    # Find the largest dimensions among the images\n",
    "    max_height = 0\n",
    "    max_width = 0\n",
    "\n",
    "    for image_file in image_files:\n",
    "        img = cv2.imread(image_file)\n",
    "        height, width, _ = img.shape\n",
    "        max_height = max(max_height, height)\n",
    "        max_width = max(max_width, width)\n",
    "\n",
    "    # Create a VideoWriter object for MP4 with the maximum dimensions\n",
    "    fourcc = cv2.VideoWriter_fourcc(*'mp4v')  # Codec for MP4\n",
    "    video_writer = cv2.VideoWriter(output_video_path, fourcc, fps, (max_width, max_height))\n",
    "\n",
    "    # Loop through the images and write them to the video\n",
    "    for image_file in image_files:\n",
    "        img = cv2.imread(image_file)\n",
    "\n",
    "        # Get the dimensions of the current image\n",
    "        height, width, _ = img.shape\n",
    "        \n",
    "        # Calculate the scaling factor to fit the image to the maximum width or height\n",
    "        scale = min(max_width / width, max_height / height)\n",
    "        new_width = int(width * scale)\n",
    "        new_height = int(height * scale)\n",
    "\n",
    "        # Resize the image\n",
    "        resized_img = cv2.resize(img, (new_width, new_height), interpolation=cv2.INTER_LINEAR)\n",
    "\n",
    "        # Create a black background image with max dimensions\n",
    "        background = np.zeros((max_height, max_width, 3), dtype=np.uint8)\n",
    "        \n",
    "        # Calculate the position to place the resized image on the background\n",
    "        x_offset = (max_width - new_width) // 2\n",
    "        y_offset = (max_height - new_height) // 2\n",
    "        \n",
    "        # Place the resized image on the background\n",
    "        background[y_offset:y_offset + new_height, x_offset:x_offset + new_width] = resized_img\n",
    "\n",
    "        for _ in range(frames_per_image):\n",
    "            video_writer.write(background)  # Write the padded image multiple times for the duration\n",
    "\n",
    "    # Release the video writer\n",
    "    video_writer.release()\n",
    "\n",
    "    print(f\"Video saved as: {output_video_path}\")\n"
   ]
  },
  {
   "cell_type": "markdown",
   "metadata": {},
   "source": [
    "Using Padding"
   ]
  },
  {
   "cell_type": "code",
   "execution_count": 47,
   "metadata": {},
   "outputs": [
    {
     "name": "stdout",
     "output_type": "stream",
     "text": [
      "Video saved as: ./panel_images/ruri_dragon_padding.mp4\n"
     ]
    }
   ],
   "source": [
    "import cv2\n",
    "import os\n",
    "from glob import glob\n",
    "\n",
    "# Define the directory where the modified images are stored\n",
    "image_dir = './panel_images'  # Change this to your actual save path\n",
    "output_video_path = './panel_images/ruri_dragon_padding.mp4'  # Change the extension to .mp4\n",
    "fps = 30  # Desired frames per second for the video\n",
    "duration_per_image = 0.5  # Duration each image is displayed in seconds\n",
    "\n",
    "# Calculate the total frames for each image based on desired display duration\n",
    "frames_per_image = int(fps * duration_per_image)\n",
    "\n",
    "# Get all the modified images sorted in reverse order\n",
    "image_files = sorted(glob(os.path.join(image_dir, 'panel_*_bubble_*_modified_*.jpg')), reverse=True)\n",
    "\n",
    "# Check if there are any image files\n",
    "if not image_files:\n",
    "    print(\"No modified images found.\")\n",
    "else:\n",
    "    # Find the largest dimensions among the images\n",
    "    max_height = 0\n",
    "    max_width = 0\n",
    "\n",
    "    for image_file in image_files:\n",
    "        img = cv2.imread(image_file)\n",
    "        height, width, _ = img.shape\n",
    "        max_height = max(max_height, height)\n",
    "        max_width = max(max_width, width)\n",
    "\n",
    "    # Create a VideoWriter object for MP4 with the maximum dimensions\n",
    "    fourcc = cv2.VideoWriter_fourcc(*'mp4v')  # Codec for MP4\n",
    "    video_writer = cv2.VideoWriter(output_video_path, fourcc, fps, (max_width, max_height))\n",
    "\n",
    "    # Loop through the images and write them to the video\n",
    "    for image_file in image_files:\n",
    "        img = cv2.imread(image_file)\n",
    "        \n",
    "        # Create a black background image with max dimensions\n",
    "        background = np.zeros((max_height, max_width, 3), dtype=np.uint8)\n",
    "        \n",
    "        # Get the dimensions of the current image\n",
    "        height, width, _ = img.shape\n",
    "        \n",
    "        # Calculate the position to place the current image on the background\n",
    "        x_offset = (max_width - width) // 2\n",
    "        y_offset = (max_height - height) // 2\n",
    "        \n",
    "        # Place the current image on the background\n",
    "        background[y_offset:y_offset + height, x_offset:x_offset + width] = img\n",
    "\n",
    "        for _ in range(frames_per_image):\n",
    "            video_writer.write(background)  # Write the padded image multiple times for the duration\n",
    "\n",
    "    # Release the video writer\n",
    "    video_writer.release()\n",
    "\n",
    "    print(f\"Video saved as: {output_video_path}\")"
   ]
  },
  {
   "cell_type": "markdown",
   "metadata": {},
   "source": [
    "Option 2: Create multiple videos and then joins them later"
   ]
  },
  {
   "cell_type": "markdown",
   "metadata": {},
   "source": [
    "# Show custom box on images to check"
   ]
  },
  {
   "cell_type": "code",
   "execution_count": 31,
   "metadata": {},
   "outputs": [
    {
     "name": "stdout",
     "output_type": "stream",
     "text": [
      "Saved modified image: ./modified_01.jpg\n"
     ]
    }
   ],
   "source": [
    "import json\n",
    "import os\n",
    "from PIL import Image, ImageDraw\n",
    "\n",
    "images_dir = r'D:\\Download\\Tu_Lieu\\Cao_Hoc\\Ky_3\\Multimedia\\FinalExam\\magi_functional\\data_test\\personal_data\\Ruri_Dragon\\raw\\01.jpg'  # Update this path\n",
    "\n",
    "test_save_path = \"./\"\n",
    "\n",
    "\n",
    "# Extract the text coordinates\n",
    "text_coords = [[613.284423828125, 670.3801879882812, 713.8804321289062, 727.5524291992188]]\n",
    "\n",
    "# Open the image\n",
    "with Image.open(images_dir) as img:\n",
    "    draw = ImageDraw.Draw(img)\n",
    "\n",
    "    # Draw red boxes for each set of coordinates\n",
    "    for box in text_coords:\n",
    "        # box format: [x1, y1, x2, y2]\n",
    "        draw.rectangle(box, outline=\"red\", width=5)\n",
    "\n",
    "    # Save the modified image with a new name\n",
    "    modified_image_path = os.path.join(test_save_path, f'modified_{os.path.basename(images_dir)}')\n",
    "    img.save(modified_image_path)\n",
    "\n",
    "print(f\"Saved modified image: {modified_image_path}\")"
   ]
  }
 ],
 "metadata": {
  "kernelspec": {
   "display_name": "multimedia",
   "language": "python",
   "name": "python3"
  },
  "language_info": {
   "codemirror_mode": {
    "name": "ipython",
    "version": 3
   },
   "file_extension": ".py",
   "mimetype": "text/x-python",
   "name": "python",
   "nbconvert_exporter": "python",
   "pygments_lexer": "ipython3",
   "version": "3.12.7"
  }
 },
 "nbformat": 4,
 "nbformat_minor": 2
}
