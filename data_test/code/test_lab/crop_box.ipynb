{
 "cells": [
  {
   "cell_type": "code",
   "execution_count": 7,
   "metadata": {},
   "outputs": [
    {
     "name": "stdout",
     "output_type": "stream",
     "text": [
      "Saved modified image: D:\\Download\\Tu_Lieu\\Cao_Hoc\\Ky_3\\Multimedia\\FinalExam\\magi_functional\\data_test\\personal_data\\Ruri_Dragon\\raw_manga\\modified_01.jpg\n"
     ]
    }
   ],
   "source": [
    "import json\n",
    "import os\n",
    "from PIL import Image, ImageDraw\n",
    "\n",
    "# Expand user home directory and construct the paths\n",
    "json_file_path = r'D:\\Download\\Tu_Lieu\\Cao_Hoc\\Ky_3\\Multimedia\\FinalExam\\magi_functional\\data_test\\personal_data\\Ruri_Dragon\\json_results\\page_0_result.json'  # Update this path\n",
    "images_dir = r'D:\\Download\\Tu_Lieu\\Cao_Hoc\\Ky_3\\Multimedia\\FinalExam\\magi_functional\\data_test\\personal_data\\Ruri_Dragon\\raw_manga\\01.jpg'  # Update this path\n",
    "# Load the JSON data\n",
    "with open(json_file_path, 'r') as f:\n",
    "    data = json.load(f)\n",
    "\n",
    "# Extract the text coordinates\n",
    "text_coords = data[\"texts\"]\n",
    "\n",
    "# Open the image\n",
    "with Image.open(images_dir) as img:\n",
    "    draw = ImageDraw.Draw(img)\n",
    "\n",
    "    # Draw red boxes for each set of coordinates\n",
    "    for box in text_coords:\n",
    "        # box format: [x1, y1, x2, y2]\n",
    "        draw.rectangle(box, outline=\"red\", width=5)\n",
    "\n",
    "    # Save the modified image with a new name\n",
    "    modified_image_path = os.path.join(os.path.dirname(images_dir), f'modified_{os.path.basename(images_dir)}')\n",
    "    img.save(modified_image_path)\n",
    "\n",
    "print(f\"Saved modified image: {modified_image_path}\")"
   ]
  }
 ],
 "metadata": {
  "kernelspec": {
   "display_name": "multimedia",
   "language": "python",
   "name": "python3"
  },
  "language_info": {
   "codemirror_mode": {
    "name": "ipython",
    "version": 3
   },
   "file_extension": ".py",
   "mimetype": "text/x-python",
   "name": "python",
   "nbconvert_exporter": "python",
   "pygments_lexer": "ipython3",
   "version": "3.12.7"
  }
 },
 "nbformat": 4,
 "nbformat_minor": 2
}
