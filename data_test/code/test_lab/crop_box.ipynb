{
 "cells": [
  {
   "cell_type": "markdown",
   "metadata": {},
   "source": [
    "# 写真を表す"
   ]
  },
  {
   "cell_type": "code",
   "execution_count": 4,
   "metadata": {},
   "outputs": [
    {
     "name": "stdout",
     "output_type": "stream",
     "text": [
      "Saved modified image: ./modified_01.jpg\n"
     ]
    }
   ],
   "source": [
    "import json\n",
    "import os\n",
    "from PIL import Image, ImageDraw\n",
    "\n",
    "# Expand user home directory and construct the paths\n",
    "json_file_path = r'D:\\Download\\Tu_Lieu\\Cao_Hoc\\Ky_3\\Multimedia\\FinalExam\\magi_functional\\data_test\\personal_data\\Ruri_Dragon\\json_results\\page_0_result.json'  # Update this path\n",
    "images_dir = r'D:\\Download\\Tu_Lieu\\Cao_Hoc\\Ky_3\\Multimedia\\FinalExam\\magi_functional\\data_test\\personal_data\\Ruri_Dragon\\raw\\01.jpg'  # Update this path\n",
    "\n",
    "test_save_path = \"./\"\n",
    "\n",
    "# Load the JSON data\n",
    "with open(json_file_path, 'r') as f:\n",
    "    data = json.load(f)\n",
    "\n",
    "# Extract the text coordinates\n",
    "text_coords = data[\"texts\"]\n",
    "\n",
    "# Open the image\n",
    "with Image.open(images_dir) as img:\n",
    "    draw = ImageDraw.Draw(img)\n",
    "\n",
    "    # Draw red boxes for each set of coordinates\n",
    "    for box in text_coords:\n",
    "        # box format: [x1, y1, x2, y2]\n",
    "        draw.rectangle(box, outline=\"red\", width=5)\n",
    "\n",
    "    # Save the modified image with a new name\n",
    "    modified_image_path = os.path.join(test_save_path, f'modified_{os.path.basename(images_dir)}')\n",
    "    img.save(modified_image_path)\n",
    "\n",
    "print(f\"Saved modified image: {modified_image_path}\")"
   ]
  },
  {
   "cell_type": "markdown",
   "metadata": {},
   "source": [
    "# Create box to hide bubble chat"
   ]
  },
  {
   "cell_type": "code",
   "execution_count": 7,
   "metadata": {},
   "outputs": [
    {
     "name": "stdout",
     "output_type": "stream",
     "text": [
      "Saved modified image: ./modified_01.jpg\n"
     ]
    }
   ],
   "source": [
    "import json\n",
    "import os\n",
    "import time\n",
    "from PIL import Image, ImageDraw\n",
    "\n",
    "# Expand user home directory and construct the paths\n",
    "json_file_path = r'D:\\Download\\Tu_Lieu\\Cao_Hoc\\Ky_3\\Multimedia\\FinalExam\\magi_functional\\data_test\\personal_data\\Ruri_Dragon\\json_results\\page_0_result.json'  # Update this path\n",
    "images_dir = r'D:\\Download\\Tu_Lieu\\Cao_Hoc\\Ky_3\\Multimedia\\FinalExam\\magi_functional\\data_test\\personal_data\\Ruri_Dragon\\raw\\01.jpg'  # Update this path\n",
    "test_save_path = \"./\"\n",
    "\n",
    "# Load the JSON data\n",
    "with open(json_file_path, 'r') as f:\n",
    "    data = json.load(f)\n",
    "\n",
    "# Extract the text coordinates\n",
    "text_coords = data[\"texts\"]\n",
    "\n",
    "# Open the image\n",
    "with Image.open(images_dir) as img:\n",
    "    draw = ImageDraw.Draw(img)\n",
    "\n",
    "    # Create a modified copy of the image for erasing text\n",
    "    modified_image = img.copy()\n",
    "\n",
    "    # Loop through each set of coordinates and erase text\n",
    "    for box in text_coords:\n",
    "        # Get corner coordinates\n",
    "        top_left = (box[0], box[1])\n",
    "        top_right = (box[2], box[1])\n",
    "        bottom_left = (box[0], box[3])\n",
    "        bottom_right = (box[2], box[3])\n",
    "\n",
    "        # Get the colors at the corners\n",
    "        colors = [\n",
    "            img.getpixel(top_left),\n",
    "            img.getpixel(top_right),\n",
    "            img.getpixel(bottom_left),\n",
    "            img.getpixel(bottom_right),\n",
    "        ]\n",
    "\n",
    "        # Find the color with the maximum value (highest sum of RGB values)\n",
    "        max_color = max(colors, key=lambda c: sum(c[:3]))  # Ignore alpha if present\n",
    "\n",
    "        # Fill the rectangle with the center color\n",
    "        draw.rectangle(box, fill=max_color)\n",
    "\n",
    "    # Save the final modified image\n",
    "    modified_image_path = os.path.join(test_save_path, f'modified_{os.path.basename(images_dir)}')\n",
    "    img.save(modified_image_path)\n",
    "\n",
    "print(f\"Saved modified image: {modified_image_path}\")\n"
   ]
  },
  {
   "cell_type": "code",
   "execution_count": 14,
   "metadata": {},
   "outputs": [
    {
     "name": "stdout",
     "output_type": "stream",
     "text": [
      "Saved modified images for each speech bubble.\n"
     ]
    }
   ],
   "source": [
    "import json\n",
    "import os\n",
    "from PIL import Image, ImageDraw\n",
    "\n",
    "# Expand user home directory and construct the paths\n",
    "json_file_path = r'D:\\Download\\Tu_Lieu\\Cao_Hoc\\Ky_3\\Multimedia\\FinalExam\\magi_functional\\data_test\\personal_data\\Ruri_Dragon\\json_results\\page_0_result.json'  # Update this path\n",
    "images_dir = r'D:\\Download\\Tu_Lieu\\Cao_Hoc\\Ky_3\\Multimedia\\FinalExam\\magi_functional\\data_test\\personal_data\\Ruri_Dragon\\raw\\01.jpg'  # Update this path\n",
    "test_save_path = \"./\"\n",
    "\n",
    "# Load the JSON data\n",
    "with open(json_file_path, 'r') as f:\n",
    "    data = json.load(f)\n",
    "\n",
    "# Extract the text coordinates\n",
    "text_coords = data[\"texts\"]\n",
    "\n",
    "# Open the image\n",
    "with Image.open(images_dir) as img:\n",
    "    # Create a copy of the image for drawing\n",
    "    original_img = img.copy()\n",
    "    img.save(os.path.join(test_save_path, f'0_modified_{os.path.basename(images_dir)}'))\n",
    "    \n",
    "    # Loop through each set of coordinates in reverse order\n",
    "    for i, box in enumerate(reversed(text_coords)):\n",
    "        # box format: [x1, y1, x2, y2]\n",
    "\n",
    "        # Get corner coordinates\n",
    "        top_left = (box[0], box[1])\n",
    "        top_right = (box[2], box[1])\n",
    "        bottom_left = (box[0], box[3])\n",
    "        bottom_right = (box[2], box[3])\n",
    "\n",
    "        # Get the colors at the corners\n",
    "        colors = [\n",
    "            original_img.getpixel(top_left),\n",
    "            original_img.getpixel(top_right),\n",
    "            original_img.getpixel(bottom_left),\n",
    "            original_img.getpixel(bottom_right),\n",
    "        ]\n",
    "\n",
    "        # Find the color with the maximum value (highest sum of RGB values)\n",
    "        max_color = max(colors, key=lambda c: sum(c[:3]))  # Ignore alpha if present\n",
    "\n",
    "        # Create a draw object on the original image copy\n",
    "        draw = ImageDraw.Draw(img)\n",
    "\n",
    "        # Fill the rectangle with the max color\n",
    "        draw.rectangle(box, fill=max_color)\n",
    "\n",
    "        # Save the modified image with a unique name\n",
    "        modified_image_path = os.path.join(test_save_path, f'{i+1}_modified_{os.path.basename(images_dir)}')\n",
    "        img.save(modified_image_path)\n",
    "\n",
    "        # Optionally, you might want to keep the original image for the next iteration\n",
    "        # img = original_img.copy()  # Reset the image for the next box\n",
    "\n",
    "print(f\"Saved modified images for each speech bubble.\")\n"
   ]
  },
  {
   "cell_type": "markdown",
   "metadata": {},
   "source": [
    "# Images to Video"
   ]
  },
  {
   "cell_type": "code",
   "execution_count": 16,
   "metadata": {},
   "outputs": [
    {
     "name": "stdout",
     "output_type": "stream",
     "text": [
      "Video saved as: ruri_dragon.mp4\n"
     ]
    }
   ],
   "source": [
    "import cv2\n",
    "import os\n",
    "from glob import glob\n",
    "\n",
    "# Define the directory where the modified images are stored\n",
    "image_dir = './'  # Change this to your actual save path\n",
    "output_video_path = 'ruri_dragon.mp4'  # Change the extension to .mp4\n",
    "fps = 30  # Desired frames per second for the video\n",
    "duration_per_image = 0.5  # Duration each image is displayed in seconds\n",
    "\n",
    "# Calculate the total frames for each image based on desired display duration\n",
    "frames_per_image = int(fps * duration_per_image)\n",
    "\n",
    "# Get all the modified images sorted in reverse order\n",
    "image_files = sorted(glob(os.path.join(image_dir, '*_modified_01.jpg')), reverse=True)\n",
    "\n",
    "# Get the dimensions of the first image to set the video size\n",
    "first_image = cv2.imread(image_files[0])\n",
    "height, width, _ = first_image.shape\n",
    "\n",
    "# Create a VideoWriter object for MP4\n",
    "fourcc = cv2.VideoWriter_fourcc(*'mp4v')  # Codec for MP4\n",
    "video_writer = cv2.VideoWriter(output_video_path, fourcc, fps, (width, height))\n",
    "\n",
    "# Loop through the images and write them to the video\n",
    "for image_file in image_files:\n",
    "    img = cv2.imread(image_file)\n",
    "    for _ in range(frames_per_image):\n",
    "        video_writer.write(img)  # Write the same image multiple times for the duration\n",
    "\n",
    "# Release the video writer\n",
    "video_writer.release()\n",
    "\n",
    "print(f\"Video saved as: {output_video_path}\")"
   ]
  }
 ],
 "metadata": {
  "kernelspec": {
   "display_name": "multimedia",
   "language": "python",
   "name": "python3"
  },
  "language_info": {
   "codemirror_mode": {
    "name": "ipython",
    "version": 3
   },
   "file_extension": ".py",
   "mimetype": "text/x-python",
   "name": "python",
   "nbconvert_exporter": "python",
   "pygments_lexer": "ipython3",
   "version": "3.12.7"
  }
 },
 "nbformat": 4,
 "nbformat_minor": 2
}
