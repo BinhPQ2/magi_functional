{
 "cells": [
  {
   "cell_type": "code",
   "execution_count": 8,
   "metadata": {},
   "outputs": [
    {
     "name": "stdout",
     "output_type": "stream",
     "text": [
      "Downloading images from MangaDex...\n",
      "Manga saved to ./mangadex_downloads\n"
     ]
    }
   ],
   "source": [
    "import os\n",
    "import shutil\n",
    "import subprocess\n",
    "\n",
    "mangadex_links = [\n",
    "    # \"https://mangadex.org/chapter/9e0094e1-c2f6-4f29-a270-8460530306a1\",\n",
    "    \"https://mangadex.org/title/0a2fd70d-e4de-49fb-8e81-89311d46b329\",\n",
    "]\n",
    "\n",
    "def download_test_set(\n",
    "        path_to_dataset_folder: str = \"./\"\n",
    "    ):\n",
    "\n",
    "    os.makedirs(path_to_dataset_folder, exist_ok=True)\n",
    "    print(\"Downloading images from MangaDex...\")\n",
    "    \n",
    "    for link in mangadex_links:\n",
    "        subprocess.run(['mangadex-dl', link, '--folder', path_to_dataset_folder, '--no-group-name', '--replace', '--log-level', \"WARNING\", '--use-compressed-image'], check=True)\n",
    "\n",
    "    # Move downloaded files to the designated folder\n",
    "\n",
    "    \n",
    "    print(f\"Manga saved to {path_to_dataset_folder}\")\n",
    "\n",
    "saved_folder = \"./mangadex_downloads\"\n",
    "download_test_set(path_to_dataset_folder=saved_folder)"
   ]
  }
 ],
 "metadata": {
  "kernelspec": {
   "display_name": "multimedia",
   "language": "python",
   "name": "python3"
  },
  "language_info": {
   "codemirror_mode": {
    "name": "ipython",
    "version": 3
   },
   "file_extension": ".py",
   "mimetype": "text/x-python",
   "name": "python",
   "nbconvert_exporter": "python",
   "pygments_lexer": "ipython3",
   "version": "3.12.7"
  }
 },
 "nbformat": 4,
 "nbformat_minor": 2
}
