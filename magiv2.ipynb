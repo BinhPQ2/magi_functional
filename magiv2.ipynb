{
 "cells": [
  {
   "cell_type": "markdown",
   "metadata": {},
   "source": [
    "# Nuke button"
   ]
  },
  {
   "cell_type": "code",
   "execution_count": 5,
   "metadata": {
    "_cell_guid": "b1076dfc-b9ad-4769-8c92-a6c4dae69d19",
    "_uuid": "8f2839f25d086af736a60e9eeb907d3b93b6e0e5",
    "execution": {
     "iopub.execute_input": "2024-10-29T12:03:03.601006Z",
     "iopub.status.busy": "2024-10-29T12:03:03.600310Z",
     "iopub.status.idle": "2024-10-29T12:03:03.649352Z",
     "shell.execute_reply": "2024-10-29T12:03:03.648509Z",
     "shell.execute_reply.started": "2024-10-29T12:03:03.600964Z"
    },
    "trusted": true
   },
   "outputs": [],
   "source": [
    "# Delete all files and folders in the working directory. Use with caution!\n",
    "import shutil\n",
    "shutil.rmtree(\"/kaggle/working\", ignore_errors=True)"
   ]
  },
  {
   "cell_type": "markdown",
   "metadata": {},
   "source": [
    "# Code"
   ]
  },
  {
   "cell_type": "markdown",
   "metadata": {},
   "source": [
    "## Git Clone"
   ]
  },
  {
   "cell_type": "code",
   "execution_count": 6,
   "metadata": {
    "execution": {
     "iopub.execute_input": "2024-10-29T12:04:12.619650Z",
     "iopub.status.busy": "2024-10-29T12:04:12.618788Z",
     "iopub.status.idle": "2024-10-29T12:04:18.911708Z",
     "shell.execute_reply": "2024-10-29T12:04:18.910511Z",
     "shell.execute_reply.started": "2024-10-29T12:04:12.619610Z"
    },
    "trusted": true
   },
   "outputs": [
    {
     "name": "stderr",
     "output_type": "stream",
     "text": [
      "/opt/conda/lib/python3.10/pty.py:89: RuntimeWarning: os.fork() was called. os.fork() is incompatible with multithreaded code, and JAX is multithreaded, so this will likely lead to a deadlock.\n",
      "  pid, fd = os.forkpty()\n"
     ]
    }
   ],
   "source": [
    "!git clone -q https://github.com/BinhPQ2/magi_functional.git"
   ]
  },
  {
   "cell_type": "code",
   "execution_count": 2,
   "metadata": {
    "execution": {
     "iopub.execute_input": "2024-10-29T13:01:14.662521Z",
     "iopub.status.busy": "2024-10-29T13:01:14.662095Z",
     "iopub.status.idle": "2024-10-29T13:01:28.089763Z",
     "shell.execute_reply": "2024-10-29T13:01:28.088471Z",
     "shell.execute_reply.started": "2024-10-29T13:01:14.662474Z"
    },
    "trusted": true
   },
   "outputs": [],
   "source": [
    "!pip install -qr /kaggle/working/magi_functional/requirements_kaggle.txt"
   ]
  },
  {
   "cell_type": "markdown",
   "metadata": {},
   "source": [
    "## Load MAGI model"
   ]
  },
  {
   "cell_type": "code",
   "execution_count": 5,
   "metadata": {
    "execution": {
     "iopub.execute_input": "2024-10-29T13:02:43.127039Z",
     "iopub.status.busy": "2024-10-29T13:02:43.126720Z",
     "iopub.status.idle": "2024-10-29T13:02:46.330609Z",
     "shell.execute_reply": "2024-10-29T13:02:46.329577Z",
     "shell.execute_reply.started": "2024-10-29T13:02:43.127005Z"
    },
    "trusted": true
   },
   "outputs": [],
   "source": [
    "from PIL import Image\n",
    "import numpy as np\n",
    "from transformers import AutoModel\n",
    "import torch\n",
    "\n",
    "model = AutoModel.from_pretrained(\"ragavsachdeva/magiv2\", trust_remote_code=True).cuda().eval()"
   ]
  },
  {
   "cell_type": "markdown",
   "metadata": {},
   "source": [
    "## Save model to local"
   ]
  },
  {
   "cell_type": "code",
   "execution_count": null,
   "metadata": {
    "execution": {
     "iopub.execute_input": "2024-10-20T10:37:33.823284Z",
     "iopub.status.busy": "2024-10-20T10:37:33.821883Z",
     "iopub.status.idle": "2024-10-20T10:37:38.220205Z",
     "shell.execute_reply": "2024-10-20T10:37:38.219310Z",
     "shell.execute_reply.started": "2024-10-20T10:37:33.823239Z"
    },
    "trusted": true
   },
   "outputs": [],
   "source": [
    "# Save model to directory:\n",
    "model.save_pretrained(\"./magi_saved_model_directory/\")"
   ]
  },
  {
   "cell_type": "code",
   "execution_count": null,
   "metadata": {
    "execution": {
     "iopub.execute_input": "2024-10-20T10:37:55.103499Z",
     "iopub.status.busy": "2024-10-20T10:37:55.102393Z",
     "iopub.status.idle": "2024-10-20T10:37:57.759302Z",
     "shell.execute_reply": "2024-10-20T10:37:57.758237Z",
     "shell.execute_reply.started": "2024-10-20T10:37:55.103455Z"
    },
    "trusted": true
   },
   "outputs": [],
   "source": [
    "# Load model from directory:\n",
    "model = AutoModel.from_pretrained(\"./magi_saved_model_directory/\", trust_remote_code=True).cuda().eval()"
   ]
  },
  {
   "cell_type": "code",
   "execution_count": null,
   "metadata": {
    "trusted": true
   },
   "outputs": [],
   "source": [
    "####################### OR ###########################\n",
    "# Cache model to directory:\n",
    "# model_1 = AutoModel.from_pretrained(\"ragavsachdeva/magiv2\", cache_dir=\"./magi_saved_model_directory/\", trust_remote_code=True).cuda().eval()"
   ]
  },
  {
   "cell_type": "markdown",
   "metadata": {},
   "source": [
    "# Code"
   ]
  },
  {
   "cell_type": "markdown",
   "metadata": {},
   "source": [
    "## Create raw and character/names list"
   ]
  },
  {
   "cell_type": "code",
   "execution_count": null,
   "metadata": {
    "execution": {
     "iopub.execute_input": "2024-10-29T13:05:08.062701Z",
     "iopub.status.busy": "2024-10-29T13:05:08.061754Z",
     "iopub.status.idle": "2024-10-29T13:05:08.075682Z",
     "shell.execute_reply": "2024-10-29T13:05:08.074703Z",
     "shell.execute_reply.started": "2024-10-29T13:05:08.062655Z"
    },
    "trusted": true
   },
   "outputs": [],
   "source": [
    "import os\n",
    "import re\n",
    "from pathlib import Path\n",
    "\n",
    "def create_chapter_pages_and_character_bank(manga_folder, character_folder):\n",
    "    # Create lists for chapter pages and character bank\n",
    "    chapter_pages = []\n",
    "    character_bank = {\n",
    "        \"images\": [],\n",
    "        \"names\": []\n",
    "    }\n",
    "\n",
    "#     Iterate through manga images to create chapter_pages\n",
    "    for image_file in os.listdir(manga_folder):\n",
    "        if image_file.endswith(('.png', '.jpg', '.jpeg')):  # Check for image file extensions\n",
    "            # Extract the page number using regex\n",
    "            match = re.search(r'p(\\d+)', image_file)\n",
    "            if match:\n",
    "                page_number = int(match.group(1))  # Convert to integer for sorting\n",
    "                chapter_pages.append((page_number, image_file))  # Store as tuple (page_number, image_file)\n",
    "            else:\n",
    "                page_number = image_file.rsplit(\".\", 1)[0]\n",
    "                chapter_pages.append((page_number, image_file))  # Store as tuple (page_number, image_file)\n",
    "\n",
    "    # Sort chapter pages by page number\n",
    "    chapter_pages.sort(key=lambda x: x[0])\n",
    "    chapter_pages = [os.path.join(manga_folder, img[1]) for img in chapter_pages]  # Extract just the filenames after sorting\n",
    "\n",
    "    # Iterate through character images to create character bank\n",
    "    for char_image_file in os.listdir(character_folder):\n",
    "        if char_image_file.endswith(('.png', '.jpg', '.jpeg')):  # Check for image file extensions\n",
    "            # Split the filename to extract character name\n",
    "            char_name = char_image_file.rsplit('_', 1)[0]  # Get the part before the underscore\n",
    "            character_bank[\"images\"].append(os.path.join(character_folder, char_image_file))\n",
    "            character_bank[\"names\"].append(char_name)\n",
    "    return chapter_pages, character_bank\n",
    "\n",
    "# Define your folders\n",
    "# One Piece\n",
    "# manga_folder = Path(\"/kaggle/working/magi_functional/data_test/personal_data/One_Piece/raw_manga\")\n",
    "# character_folder = Path(\"/kaggle/working/magi_functional/data_test/personal_data/One_Piece/character\")\n",
    "\n",
    "# Ruri Dragon\n",
    "manga_folder = Path(\"/kaggle/working/magi_functional/data_test/personal_data/Ruri_Dragon/raw\")\n",
    "character_folder = Path(\"/kaggle/working/magi_functional/data_test/personal_data/Ruri_Dragon/character\")\n",
    "\n",
    "# Get chapter pages and character bank\n",
    "chapter_pages_original, character_bank_original = create_chapter_pages_and_character_bank(manga_folder, character_folder)\n",
    "\n",
    "chapter_pages_test = chapter_pages_original[:]\n",
    "character_bank_test = character_bank_original\n",
    "\n",
    "# Print the results (for debugging)\n",
    "print(\"Chapter Pages:\")\n",
    "print(chapter_pages_test)\n",
    "\n",
    "print(\"\\nCharacter Bank:\")\n",
    "print(character_bank_test)"
   ]
  },
  {
   "cell_type": "markdown",
   "metadata": {},
   "source": [
    "## Process (OCR → Transcript)"
   ]
  },
  {
   "cell_type": "code",
   "execution_count": 11,
   "metadata": {
    "execution": {
     "iopub.execute_input": "2024-10-29T13:11:07.422838Z",
     "iopub.status.busy": "2024-10-29T13:11:07.421976Z",
     "iopub.status.idle": "2024-10-29T13:12:45.694125Z",
     "shell.execute_reply": "2024-10-29T13:12:45.693247Z",
     "shell.execute_reply.started": "2024-10-29T13:11:07.422799Z"
    },
    "trusted": true
   },
   "outputs": [
    {
     "name": "stderr",
     "output_type": "stream",
     "text": [
      "100%|██████████| 6/6 [00:10<00:00,  1.67s/it]\n"
     ]
    },
    {
     "name": "stdout",
     "output_type": "stream",
     "text": [
      "Welcome to the CBC MILP Solver \n",
      "Version: 2.10.3 \n",
      "Build Date: Dec 15 2019 \n",
      "\n",
      "command line - /opt/conda/lib/python3.10/site-packages/pulp/solverdir/cbc/linux/64/cbc /tmp/1e2c6516e5524d15a92366d85bf77bda-pulp.mps -timeMode elapsed -branch -printingOptions all -solution /tmp/1e2c6516e5524d15a92366d85bf77bda-pulp.sol (default strategy 1)\n",
      "At line 2 NAME          MODEL\n",
      "At line 3 ROWS\n",
      "At line 22383 COLUMNS\n",
      "At line 83100 RHS\n",
      "At line 105479 BOUNDS\n",
      "At line 109680 ENDATA\n",
      "Problem MODEL has 22378 rows, 4200 columns and 48116 elements\n",
      "Coin0008I MODEL read with 0 errors\n",
      "Option for timeMode changed from cpu to elapsed\n",
      "Continuous objective value is 258.493 - 0.08 seconds\n",
      "Cgl0003I 0 fixed, 0 tightened bounds, 9194 strengthened rows, 0 substitutions\n",
      "Cgl0003I 0 fixed, 0 tightened bounds, 8599 strengthened rows, 0 substitutions\n",
      "Cgl0003I 0 fixed, 0 tightened bounds, 8320 strengthened rows, 0 substitutions\n",
      "Cgl0003I 0 fixed, 0 tightened bounds, 7889 strengthened rows, 0 substitutions\n",
      "Cgl0003I 0 fixed, 0 tightened bounds, 7452 strengthened rows, 0 substitutions\n",
      "Cgl0003I 0 fixed, 0 tightened bounds, 6756 strengthened rows, 0 substitutions\n",
      "Cgl0003I 0 fixed, 0 tightened bounds, 6271 strengthened rows, 0 substitutions\n",
      "Cgl0003I 0 fixed, 0 tightened bounds, 5604 strengthened rows, 0 substitutions\n",
      "Cgl0003I 0 fixed, 0 tightened bounds, 4976 strengthened rows, 0 substitutions\n",
      "Cgl0005I 229 SOS with 2290 members\n",
      "Cgl0004I processed model has 6130 rows, 2290 columns (2290 integer (2290 of which binary)) and 63292 elements\n",
      "Cbc0038I Initial state - 0 integers unsatisfied sum - 0\n",
      "Cbc0038I Solution found of 258.947\n",
      "Cbc0038I Before mini branch and bound, 2290 integers at bound fixed and 0 continuous\n",
      "Cbc0038I Mini branch and bound did not improve solution (4.08 seconds)\n",
      "Cbc0038I After 4.08 seconds - Feasibility pump exiting with objective of 258.947 - took 0.02 seconds\n",
      "Cbc0012I Integer solution of 258.94707 found by feasibility pump after 0 iterations and 0 nodes (4.09 seconds)\n",
      "Cbc0001I Search completed - best objective 258.9470657012691, took 0 iterations and 0 nodes (4.09 seconds)\n",
      "Cbc0035I Maximum depth 0, 0 variables fixed on reduced cost\n",
      "Cuts at root node changed objective from 258.947 to 258.947\n",
      "Probing was tried 0 times and created 0 cuts of which 0 were active after adding rounds of cuts (0.000 seconds)\n",
      "Gomory was tried 0 times and created 0 cuts of which 0 were active after adding rounds of cuts (0.000 seconds)\n",
      "Knapsack was tried 0 times and created 0 cuts of which 0 were active after adding rounds of cuts (0.000 seconds)\n",
      "Clique was tried 0 times and created 0 cuts of which 0 were active after adding rounds of cuts (0.000 seconds)\n",
      "MixedIntegerRounding2 was tried 0 times and created 0 cuts of which 0 were active after adding rounds of cuts (0.000 seconds)\n",
      "FlowCover was tried 0 times and created 0 cuts of which 0 were active after adding rounds of cuts (0.000 seconds)\n",
      "TwoMirCuts was tried 0 times and created 0 cuts of which 0 were active after adding rounds of cuts (0.000 seconds)\n",
      "ZeroHalf was tried 0 times and created 0 cuts of which 0 were active after adding rounds of cuts (0.000 seconds)\n",
      "\n",
      "Result - Optimal solution found\n",
      "\n",
      "Objective value:                258.94706570\n",
      "Enumerated nodes:               0\n",
      "Total iterations:               0\n",
      "Time (CPU seconds):             3.94\n",
      "Time (Wallclock seconds):       4.18\n",
      "\n",
      "Option for printingOptions changed from normal to all\n",
      "Total time (CPU seconds):       4.00   (Wallclock seconds):       4.25\n",
      "\n"
     ]
    },
    {
     "name": "stderr",
     "output_type": "stream",
     "text": [
      "100%|██████████| 14/14 [01:14<00:00,  5.35s/it]\n"
     ]
    }
   ],
   "source": [
    "import os\n",
    "import json\n",
    "\n",
    "def read_image(path_to_image):\n",
    "    with open(path_to_image, \"rb\") as file:\n",
    "        image = Image.open(file).convert(\"L\").convert(\"RGB\")\n",
    "        image = np.array(image)\n",
    "    return image\n",
    "\n",
    "\n",
    "chapter_pages = [read_image(x) for x in chapter_pages_test]\n",
    "character_bank = character_bank_test.copy()\n",
    "character_bank[\"images\"] = [read_image(x) for x in character_bank_test[\"images\"]]\n",
    "\n",
    "with torch.no_grad():\n",
    "    per_page_results = model.do_chapter_wide_prediction(chapter_pages, character_bank, use_tqdm=True, do_ocr=True)\n",
    "\n",
    "print(\"Continue with next cell\")"
   ]
  },
  {
   "cell_type": "markdown",
   "metadata": {},
   "source": [
    "## Save transcript"
   ]
  },
  {
   "cell_type": "code",
   "execution_count": 16,
   "metadata": {
    "execution": {
     "iopub.execute_input": "2024-10-29T13:14:33.760214Z",
     "iopub.status.busy": "2024-10-29T13:14:33.759510Z",
     "iopub.status.idle": "2024-10-29T13:15:04.321082Z",
     "shell.execute_reply": "2024-10-29T13:15:04.319969Z",
     "shell.execute_reply.started": "2024-10-29T13:14:33.760158Z"
    },
    "trusted": true
   },
   "outputs": [
    {
     "name": "stdout",
     "output_type": "stream",
     "text": [
      "\n",
      "\n",
      "Done you WEEEEB!\n"
     ]
    }
   ],
   "source": [
    "result_dir = \"/kaggle/working/result\"\n",
    "json_output_dir = f\"{result_dir}/json_results\"\n",
    "result_image_output_dir = f\"{result_dir}/image_results\"\n",
    "transcript_output_dir = f\"{result_dir}/transcript.txt\"\n",
    "os.makedirs(json_output_dir, exist_ok=True)  # Create the directory if it doesn't exist  \n",
    "os.makedirs(result_image_output_dir, exist_ok=True)  # Create the directory if it doesn't exist\n",
    "\n",
    "transcript = []\n",
    "for i, (image, page_result) in enumerate(zip(chapter_pages, per_page_results)):\n",
    "    image_name_ext = os.path.basename(chapter_pages_test[i])\n",
    "    # Split the image name and its extension\n",
    "    image_name, image_extension = os.path.splitext(image_name_ext)\n",
    "    \n",
    "    model.visualise_single_image_prediction(image, page_result, os.path.join(result_image_output_dir, f\"{image_name}.png\"))\n",
    "    # Save page_result to JSON\n",
    "    json_file_path = os.path.join(json_output_dir, f\"{image_name}.json\")  # Create full file path\n",
    "    with open(json_file_path, 'w') as json_file:\n",
    "        json.dump(page_result, json_file, indent=4)  # Save with pretty printing\n",
    "\n",
    "    speaker_name = {\n",
    "        text_idx: page_result[\"character_names\"][char_idx] for text_idx, char_idx in page_result[\"text_character_associations\"]\n",
    "    }\n",
    "    for j in range(len(page_result[\"ocr\"])):\n",
    "        if not page_result[\"is_essential_text\"][j]:\n",
    "            continue\n",
    "        name = speaker_name.get(j, \"unsure\") \n",
    "        transcript.append(f\"<{name}>: {page_result['ocr'][j]}\")\n",
    "    transcript.append(\"---------------------------------------------\")\n",
    "with open(transcript_output_dir, \"w\") as fh:\n",
    "    for line in transcript:\n",
    "        fh.write(line + \"\\n\")\n",
    "\n",
    "print(\"\\n\\nDone you WEEEEB!\")"
   ]
  },
  {
   "cell_type": "markdown",
   "metadata": {},
   "source": [
    "# Zip file"
   ]
  },
  {
   "cell_type": "markdown",
   "metadata": {},
   "source": [
    "## Legacy"
   ]
  },
  {
   "cell_type": "code",
   "execution_count": null,
   "metadata": {
    "execution": {
     "iopub.execute_input": "2024-10-23T18:01:10.616973Z",
     "iopub.status.busy": "2024-10-23T18:01:10.616134Z",
     "iopub.status.idle": "2024-10-23T18:01:10.626962Z",
     "shell.execute_reply": "2024-10-23T18:01:10.625951Z",
     "shell.execute_reply.started": "2024-10-23T18:01:10.616935Z"
    },
    "trusted": true
   },
   "outputs": [],
   "source": [
    "# json_output_dir = \"/kaggle/working/json_results\"\n",
    "# result_image_output_dir = \"/kaggle/working/image_results\"\n",
    "\n",
    "# # zip\n",
    "# json_output_dir = \"/kaggle/working/json_results\"\n",
    "# !zip -rj /kaggle/working/json.zip {json_output_dir}/*.json\n",
    "# # download\n",
    "# !cd /kaggle/working/\n",
    "# display(FileLink('json.zip'))"
   ]
  },
  {
   "cell_type": "markdown",
   "metadata": {},
   "source": [
    "## Download separate files"
   ]
  },
  {
   "cell_type": "markdown",
   "metadata": {},
   "source": [
    "### Download json"
   ]
  },
  {
   "cell_type": "code",
   "execution_count": 17,
   "metadata": {
    "execution": {
     "iopub.execute_input": "2024-10-29T13:15:12.023004Z",
     "iopub.status.busy": "2024-10-29T13:15:12.022295Z",
     "iopub.status.idle": "2024-10-29T13:15:12.057622Z",
     "shell.execute_reply": "2024-10-29T13:15:12.056667Z",
     "shell.execute_reply.started": "2024-10-29T13:15:12.022962Z"
    },
    "trusted": true
   },
   "outputs": [
    {
     "data": {
      "text/html": [
       "<a href='json_results.zip' target='_blank'>json_results.zip</a><br>"
      ],
      "text/plain": [
       "/kaggle/working/json_results.zip"
      ]
     },
     "metadata": {},
     "output_type": "display_data"
    }
   ],
   "source": [
    "import os\n",
    "import subprocess\n",
    "from IPython.display import FileLink, display\n",
    "\n",
    "def download_file(download_file_name, source_path):\n",
    "    os.chdir('/kaggle/working/')\n",
    "    zip_name = f\"/kaggle/working/{download_file_name}.zip\"\n",
    "    command = f\"zip -rj {zip_name} {source_path}\"\n",
    "    result = subprocess.run(command, shell=True, capture_output=True, text=True)\n",
    "    if result.returncode != 0:\n",
    "        print(\"Unable to run zip command!\")\n",
    "        print(result.stderr)\n",
    "        return\n",
    "    display(FileLink(f'{download_file_name}.zip'))\n",
    "\n",
    "download_file(\"json_results\", f\"{json_output_dir}/*.json\")"
   ]
  },
  {
   "cell_type": "markdown",
   "metadata": {},
   "source": [
    "### Download image results"
   ]
  },
  {
   "cell_type": "code",
   "execution_count": 18,
   "metadata": {
    "execution": {
     "iopub.execute_input": "2024-10-29T13:15:17.807183Z",
     "iopub.status.busy": "2024-10-29T13:15:17.806804Z",
     "iopub.status.idle": "2024-10-29T13:15:19.713043Z",
     "shell.execute_reply": "2024-10-29T13:15:19.712029Z",
     "shell.execute_reply.started": "2024-10-29T13:15:17.807146Z"
    },
    "trusted": true
   },
   "outputs": [
    {
     "data": {
      "text/html": [
       "<a href='image_results.zip' target='_blank'>image_results.zip</a><br>"
      ],
      "text/plain": [
       "/kaggle/working/image_results.zip"
      ]
     },
     "metadata": {},
     "output_type": "display_data"
    }
   ],
   "source": [
    "import os\n",
    "import subprocess\n",
    "from IPython.display import FileLink, display\n",
    "\n",
    "def download_file(download_file_name, source_path):\n",
    "    os.chdir('/kaggle/working/')\n",
    "    zip_name = f\"/kaggle/working/{download_file_name}.zip\"\n",
    "    command = f\"zip -rj {zip_name} {source_path}\"\n",
    "    result = subprocess.run(command, shell=True, capture_output=True, text=True)\n",
    "    if result.returncode != 0:\n",
    "        print(\"Unable to run zip command!\")\n",
    "        print(result.stderr)\n",
    "        return\n",
    "    display(FileLink(f'{download_file_name}.zip'))\n",
    "\n",
    "download_file(\"image_results\", result_image_output_dir)"
   ]
  },
  {
   "cell_type": "markdown",
   "metadata": {},
   "source": [
    "### Download transcript"
   ]
  },
  {
   "cell_type": "code",
   "execution_count": 11,
   "metadata": {
    "execution": {
     "iopub.execute_input": "2024-10-29T12:08:20.052628Z",
     "iopub.status.busy": "2024-10-29T12:08:20.052041Z",
     "iopub.status.idle": "2024-10-29T12:08:20.059350Z",
     "shell.execute_reply": "2024-10-29T12:08:20.058395Z",
     "shell.execute_reply.started": "2024-10-29T12:08:20.052570Z"
    },
    "trusted": true
   },
   "outputs": [
    {
     "data": {
      "text/html": [
       "Path (<tt>transcript.txt</tt>) doesn't exist. It may still be in the process of being generated, or you may have the incorrect path."
      ],
      "text/plain": [
       "/kaggle/working/transcript.txt"
      ]
     },
     "metadata": {},
     "output_type": "display_data"
    }
   ],
   "source": [
    "import os\n",
    "os.chdir(result_dir)\n",
    "display(FileLink('transcript.txt'))"
   ]
  },
  {
   "cell_type": "markdown",
   "metadata": {},
   "source": [
    "## Download all"
   ]
  },
  {
   "cell_type": "code",
   "execution_count": null,
   "metadata": {
    "execution": {
     "iopub.execute_input": "2024-10-27T10:29:49.704063Z",
     "iopub.status.busy": "2024-10-27T10:29:49.703299Z",
     "iopub.status.idle": "2024-10-27T10:29:50.042066Z",
     "shell.execute_reply": "2024-10-27T10:29:50.041062Z",
     "shell.execute_reply.started": "2024-10-27T10:29:49.704019Z"
    },
    "trusted": true
   },
   "outputs": [],
   "source": [
    "import os\n",
    "import subprocess\n",
    "from IPython.display import FileLink, display\n",
    "\n",
    "def download_file(download_file_name, source_path):\n",
    "    os.chdir('/kaggle/working/')\n",
    "    zip_name = f\"/kaggle/working/{download_file_name}.zip\"\n",
    "    command = f\"zip -r {zip_name} {source_path}\"\n",
    "    result = subprocess.run(command, shell=True, capture_output=True, text=True)\n",
    "    if result.returncode != 0:\n",
    "        print(\"Unable to run zip command!\")\n",
    "        print(result.stderr)\n",
    "        return\n",
    "    display(FileLink(f'{download_file_name}.zip'))\n",
    "    \n",
    "\n",
    "!cp -r result_dir /\n",
    "download_file(\"result\", result_dir)"
   ]
  }
 ],
 "metadata": {
  "kaggle": {
   "accelerator": "gpu",
   "dataSources": [],
   "dockerImageVersionId": 30787,
   "isGpuEnabled": true,
   "isInternetEnabled": true,
   "language": "python",
   "sourceType": "notebook"
  },
  "kernelspec": {
   "display_name": "multimedia",
   "language": "python",
   "name": "python3"
  },
  "language_info": {
   "codemirror_mode": {
    "name": "ipython",
    "version": 3
   },
   "file_extension": ".py",
   "mimetype": "text/x-python",
   "name": "python",
   "nbconvert_exporter": "python",
   "pygments_lexer": "ipython3",
   "version": "3.12.7"
  }
 },
 "nbformat": 4,
 "nbformat_minor": 4
}
